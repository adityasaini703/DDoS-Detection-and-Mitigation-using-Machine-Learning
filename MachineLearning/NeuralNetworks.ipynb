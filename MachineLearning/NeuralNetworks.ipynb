{
  "nbformat": 4,
  "nbformat_minor": 0,
  "metadata": {
    "colab": {
      "name": "NeuralNetworks.ipynb",
      "provenance": [],
      "collapsed_sections": [],
      "mount_file_id": "1lBgizN0cPLMeNtz7rKhLzE2WC_zGqG0a",
      "authorship_tag": "ABX9TyMWK5hTf4Q+eCBtfc/UFVTO",
      "include_colab_link": true
    },
    "kernelspec": {
      "name": "python3",
      "display_name": "Python 3"
    },
    "language_info": {
      "name": "python"
    }
  },
  "cells": [
    {
      "cell_type": "markdown",
      "metadata": {
        "id": "view-in-github",
        "colab_type": "text"
      },
      "source": [
        "<a href=\"https://colab.research.google.com/github/trinalvf/final_year_project/blob/main/MachineLearning/NeuralNetworks.ipynb\" target=\"_parent\"><img src=\"https://colab.research.google.com/assets/colab-badge.svg\" alt=\"Open In Colab\"/></a>"
      ]
    },
    {
      "cell_type": "code",
      "metadata": {
        "colab": {
          "base_uri": "https://localhost:8080/"
        },
        "id": "KIsT9QiarWLT",
        "outputId": "7af1b33d-45bd-4c3d-ab95-c848deb83c46"
      },
      "source": [
        "from google.colab import drive\n",
        "drive.mount('/content/drive')"
      ],
      "execution_count": null,
      "outputs": [
        {
          "output_type": "stream",
          "name": "stdout",
          "text": [
            "Mounted at /content/drive\n"
          ]
        }
      ]
    },
    {
      "cell_type": "code",
      "metadata": {
        "id": "kf0OBVGrr-ZT"
      },
      "source": [
        "import pandas as pd\n",
        "from sklearn.model_selection import learning_curve\n",
        "from sklearn.model_selection import train_test_split\n",
        "from sklearn.neighbors import KNeighborsClassifier\n",
        "from sklearn.metrics import confusion_matrix\n",
        "from sklearn.metrics import accuracy_score\n",
        "import numpy as np\n",
        "import matplotlib.pyplot as plt\n",
        "import tensorflow as tf\n",
        "from tensorflow import keras\n",
        "from sklearn.preprocessing import StandardScaler"
      ],
      "execution_count": null,
      "outputs": []
    },
    {
      "cell_type": "code",
      "metadata": {
        "id": "ps6Pr74MsAFc"
      },
      "source": [
        "flow_dataset = pd.read_csv('/content/drive/MyDrive/dataset.csv')\n",
        "\n",
        "flow_dataset = flow_dataset.drop(columns=['flow_id'])\n",
        "\n",
        "flow_dataset1 = flow_dataset.iloc[:5000,:]\n",
        "flow_dataset2 = flow_dataset.iloc[125640:130640,:]\n",
        "flow_dataset = pd.concat([flow_dataset1, flow_dataset2], ignore_index=True)\n",
        "\n",
        "#flow_dataset.iloc[:, 2] = flow_dataset.iloc[:, 2].str.replace('.', '')\n",
        "flow_dataset.iloc[:, 2] = flow_dataset.iloc[:, 2].str.replace('.', '')\n",
        "flow_dataset.iloc[:, 4] = flow_dataset.iloc[:, 4].str.replace('.', '')\n",
        "\n",
        "X_flow = flow_dataset.iloc[:, :-1].values\n",
        "X_flow = X_flow.astype('float64')\n",
        "\n",
        "y_flow = flow_dataset.iloc[:, -1].values\n",
        "\n",
        "scaler = StandardScaler()\n",
        "X_flow = scaler.fit_transform(flow_dataset)\n",
        "\n",
        "X_flow_train, X_flow_test, y_flow_train, y_flow_test = train_test_split(X_flow, y_flow, test_size=0.25, random_state=0)\n",
        "\n"
      ],
      "execution_count": null,
      "outputs": []
    },
    {
      "cell_type": "code",
      "metadata": {
        "colab": {
          "base_uri": "https://localhost:8080/",
          "height": 223
        },
        "id": "z-uMClhkwDUx",
        "outputId": "0fae60ae-3d1e-4c5d-a130-88df29b92f42"
      },
      "source": [
        "flow_dataset.head()"
      ],
      "execution_count": null,
      "outputs": [
        {
          "output_type": "execute_result",
          "data": {
            "text/html": [
              "<div>\n",
              "<style scoped>\n",
              "    .dataframe tbody tr th:only-of-type {\n",
              "        vertical-align: middle;\n",
              "    }\n",
              "\n",
              "    .dataframe tbody tr th {\n",
              "        vertical-align: top;\n",
              "    }\n",
              "\n",
              "    .dataframe thead th {\n",
              "        text-align: right;\n",
              "    }\n",
              "</style>\n",
              "<table border=\"1\" class=\"dataframe\">\n",
              "  <thead>\n",
              "    <tr style=\"text-align: right;\">\n",
              "      <th></th>\n",
              "      <th>timestamp</th>\n",
              "      <th>datapath_id</th>\n",
              "      <th>ip_src</th>\n",
              "      <th>tp_src</th>\n",
              "      <th>ip_dst</th>\n",
              "      <th>tp_dst</th>\n",
              "      <th>ip_proto</th>\n",
              "      <th>icmp_code</th>\n",
              "      <th>icmp_type</th>\n",
              "      <th>flow_duration_sec</th>\n",
              "      <th>flow_duration_nsec</th>\n",
              "      <th>idle_timeout</th>\n",
              "      <th>hard_timeout</th>\n",
              "      <th>flags</th>\n",
              "      <th>packet_count</th>\n",
              "      <th>byte_count</th>\n",
              "      <th>packet_count_per_second</th>\n",
              "      <th>packet_count_per_nsecond</th>\n",
              "      <th>byte_count_per_second</th>\n",
              "      <th>byte_count_per_nsecond</th>\n",
              "      <th>label</th>\n",
              "    </tr>\n",
              "  </thead>\n",
              "  <tbody>\n",
              "    <tr>\n",
              "      <th>0</th>\n",
              "      <td>1.589933e+09</td>\n",
              "      <td>1</td>\n",
              "      <td>10001</td>\n",
              "      <td>5050</td>\n",
              "      <td>10003</td>\n",
              "      <td>54246</td>\n",
              "      <td>6</td>\n",
              "      <td>-1</td>\n",
              "      <td>-1</td>\n",
              "      <td>4</td>\n",
              "      <td>480000000</td>\n",
              "      <td>20</td>\n",
              "      <td>100</td>\n",
              "      <td>0</td>\n",
              "      <td>50776</td>\n",
              "      <td>3351216</td>\n",
              "      <td>12694.00</td>\n",
              "      <td>1.057833e-04</td>\n",
              "      <td>8.378040e+05</td>\n",
              "      <td>6.981700e-03</td>\n",
              "      <td>0</td>\n",
              "    </tr>\n",
              "    <tr>\n",
              "      <th>1</th>\n",
              "      <td>1.589933e+09</td>\n",
              "      <td>1</td>\n",
              "      <td>10003</td>\n",
              "      <td>54246</td>\n",
              "      <td>10001</td>\n",
              "      <td>5050</td>\n",
              "      <td>6</td>\n",
              "      <td>-1</td>\n",
              "      <td>-1</td>\n",
              "      <td>4</td>\n",
              "      <td>486000000</td>\n",
              "      <td>20</td>\n",
              "      <td>100</td>\n",
              "      <td>0</td>\n",
              "      <td>209360</td>\n",
              "      <td>11834974848</td>\n",
              "      <td>52340.00</td>\n",
              "      <td>4.307819e-04</td>\n",
              "      <td>2.958744e+09</td>\n",
              "      <td>2.435180e+01</td>\n",
              "      <td>0</td>\n",
              "    </tr>\n",
              "    <tr>\n",
              "      <th>2</th>\n",
              "      <td>1.589933e+09</td>\n",
              "      <td>1</td>\n",
              "      <td>10003</td>\n",
              "      <td>54246</td>\n",
              "      <td>10005</td>\n",
              "      <td>5050</td>\n",
              "      <td>1</td>\n",
              "      <td>0</td>\n",
              "      <td>8</td>\n",
              "      <td>4</td>\n",
              "      <td>484000000</td>\n",
              "      <td>20</td>\n",
              "      <td>100</td>\n",
              "      <td>0</td>\n",
              "      <td>3</td>\n",
              "      <td>294</td>\n",
              "      <td>0.75</td>\n",
              "      <td>6.198347e-09</td>\n",
              "      <td>7.350000e+01</td>\n",
              "      <td>6.074380e-07</td>\n",
              "      <td>0</td>\n",
              "    </tr>\n",
              "    <tr>\n",
              "      <th>3</th>\n",
              "      <td>1.589933e+09</td>\n",
              "      <td>1</td>\n",
              "      <td>10005</td>\n",
              "      <td>54246</td>\n",
              "      <td>10003</td>\n",
              "      <td>5050</td>\n",
              "      <td>1</td>\n",
              "      <td>0</td>\n",
              "      <td>0</td>\n",
              "      <td>4</td>\n",
              "      <td>415000000</td>\n",
              "      <td>20</td>\n",
              "      <td>100</td>\n",
              "      <td>0</td>\n",
              "      <td>3</td>\n",
              "      <td>294</td>\n",
              "      <td>0.75</td>\n",
              "      <td>7.228916e-09</td>\n",
              "      <td>7.350000e+01</td>\n",
              "      <td>7.084337e-07</td>\n",
              "      <td>0</td>\n",
              "    </tr>\n",
              "    <tr>\n",
              "      <th>4</th>\n",
              "      <td>1.589933e+09</td>\n",
              "      <td>2</td>\n",
              "      <td>10003</td>\n",
              "      <td>0</td>\n",
              "      <td>10005</td>\n",
              "      <td>0</td>\n",
              "      <td>1</td>\n",
              "      <td>0</td>\n",
              "      <td>8</td>\n",
              "      <td>4</td>\n",
              "      <td>423000000</td>\n",
              "      <td>20</td>\n",
              "      <td>100</td>\n",
              "      <td>0</td>\n",
              "      <td>3</td>\n",
              "      <td>294</td>\n",
              "      <td>0.75</td>\n",
              "      <td>7.092199e-09</td>\n",
              "      <td>7.350000e+01</td>\n",
              "      <td>6.950355e-07</td>\n",
              "      <td>0</td>\n",
              "    </tr>\n",
              "  </tbody>\n",
              "</table>\n",
              "</div>"
            ],
            "text/plain": [
              "      timestamp  datapath_id  ... byte_count_per_nsecond  label\n",
              "0  1.589933e+09            1  ...           6.981700e-03      0\n",
              "1  1.589933e+09            1  ...           2.435180e+01      0\n",
              "2  1.589933e+09            1  ...           6.074380e-07      0\n",
              "3  1.589933e+09            1  ...           7.084337e-07      0\n",
              "4  1.589933e+09            2  ...           6.950355e-07      0\n",
              "\n",
              "[5 rows x 21 columns]"
            ]
          },
          "metadata": {},
          "execution_count": 41
        }
      ]
    },
    {
      "cell_type": "code",
      "metadata": {
        "id": "sMMzptNusVPq"
      },
      "source": [
        "n_features = X_flow_train.shape[1]\n",
        "\n",
        "model = tf.keras.Sequential()\n",
        "model.add(tf.keras.layers.Dense(20, activation='relu', kernel_initializer='Orthogonal', input_shape=(n_features,)))\n",
        "#model.add(tf.keras.layers.Dense(30, activation='swish', kernel_initializer='GlorotNormal'))\n",
        "#model.add(tf.keras.layers.Dense(42, activation='swish', kernel_initializer='RandomUniform'))\n",
        "model.add(tf.keras.layers.Dense(2, activation='softmax'))\n",
        "model.compile(optimizer='Nadam', loss='sparse_categorical_crossentropy', metrics=['accuracy'])\n",
        "history = model.fit(X_flow_train, y_flow_train, epochs=40, batch_size=32, verbose=0,validation_data=(X_flow_test,y_flow_test))\n",
        "tr_loss, tr_acc = model.evaluate(X_flow_train, y_flow_train, verbose=0)\n",
        "ts_loss, ts_acc = model.evaluate(X_flow_test, y_flow_test, verbose=0)\n",
        "\n",
        "\n"
      ],
      "execution_count": null,
      "outputs": []
    },
    {
      "cell_type": "code",
      "metadata": {
        "colab": {
          "base_uri": "https://localhost:8080/",
          "height": 298
        },
        "id": "RBWZnOUbu5zB",
        "outputId": "25ecbf91-f47c-42eb-ad27-dd69bf6a8cfe"
      },
      "source": [
        "plt.title('Loss')\n",
        "plt.plot(history.history['loss'], label='train')\n",
        "plt.plot(history.history['val_loss'], label='test')\n",
        "plt.legend()\n"
      ],
      "execution_count": null,
      "outputs": [
        {
          "output_type": "execute_result",
          "data": {
            "text/plain": [
              "<matplotlib.legend.Legend at 0x7febf227b510>"
            ]
          },
          "metadata": {},
          "execution_count": 5
        },
        {
          "output_type": "display_data",
          "data": {
            "image/png": "[encoded data removed]",
            "text/plain": [
              "<Figure size 432x288 with 1 Axes>"
            ]
          },
          "metadata": {
            "needs_background": "light"
          }
        }
      ]
    },
    {
      "cell_type": "code",
      "metadata": {
        "colab": {
          "base_uri": "https://localhost:8080/",
          "height": 281
        },
        "id": "_ZbYVLNVxI8f",
        "outputId": "e1c4b92f-48bd-4e3c-c04b-c1e5217b5a5e"
      },
      "source": [
        "plt.title('Accuracy')\n",
        "plt.plot(history.history['accuracy'], label='train')\n",
        "plt.plot(history.history['val_accuracy'], label='test')\n",
        "plt.legend()\n",
        "plt.show()\n"
      ],
      "execution_count": null,
      "outputs": [
        {
          "output_type": "display_data",
          "data": {
            "image/png": "[encoded data removed]",
            "text/plain": [
              "<Figure size 432x288 with 1 Axes>"
            ]
          },
          "metadata": {
            "needs_background": "light"
          }
        }
      ]
    },
    {
      "cell_type": "code",
      "metadata": {
        "id": "6RESX3-E0C9z"
      },
      "source": [
        ""
      ],
      "execution_count": null,
      "outputs": []
    }
  ]
}