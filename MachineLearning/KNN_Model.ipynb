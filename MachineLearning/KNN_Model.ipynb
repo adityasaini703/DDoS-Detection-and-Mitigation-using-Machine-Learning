{
  "nbformat": 4,
  "nbformat_minor": 0,
  "metadata": {
    "colab": {
      "name": "KNN_Model.ipynb",
      "provenance": [],
      "collapsed_sections": [],
      "mount_file_id": "1LrLsNwtHt9c4A85kdhu1kQfPh7wg1Sh-",
      "authorship_tag": "ABX9TyMzrRkxNf/sjjTbH982t9O0",
      "include_colab_link": true
    },
    "kernelspec": {
      "name": "python3",
      "display_name": "Python 3"
    },
    "language_info": {
      "name": "python"
    }
  },
  "cells": [
    {
      "cell_type": "markdown",
      "metadata": {
        "id": "view-in-github",
        "colab_type": "text"
      },
      "source": [
        "<a href=\"https://colab.research.google.com/github/trinalvf/final_year_project/blob/main/MachineLearning/KNN_Model.ipynb\" target=\"_parent\"><img src=\"https://colab.research.google.com/assets/colab-badge.svg\" alt=\"Open In Colab\"/></a>"
      ]
    },
    {
      "cell_type": "markdown",
      "metadata": {
        "id": "rBX1aCcDnp5A"
      },
      "source": [
        "**Feature Analysis:** Ignoring 'flow_id','timestamp','flags','hard_timeout','idle_timeout' as they are irrelevant in predicting the attack."
      ]
    },
    {
      "cell_type": "code",
      "metadata": {
        "id": "q4O7MlcGuX4C"
      },
      "source": [
        "import pandas as pd\n",
        "from sklearn.model_selection import learning_curve\n",
        "from sklearn.model_selection import train_test_split\n",
        "from sklearn.neighbors import KNeighborsClassifier\n",
        "from sklearn.metrics import confusion_matrix\n",
        "from sklearn.metrics import accuracy_score\n",
        "import numpy as np\n",
        "import matplotlib.pyplot as plt"
      ],
      "execution_count": null,
      "outputs": []
    },
    {
      "cell_type": "code",
      "metadata": {
        "colab": {
          "base_uri": "https://localhost:8080/"
        },
        "id": "udIv2Y1qvEuK",
        "outputId": "760b8672-e0e3-426a-dd9a-d0183d49a9ef"
      },
      "source": [
        "flow_dataset = pd.read_csv('/content/drive/MyDrive/dataset.csv')\n",
        "\n",
        "flow_dataset = flow_dataset.drop(columns=['flow_id','timestamp','flags','hard_timeout','idle_timeout'])\n",
        "\n",
        "\n",
        "flow_dataset1 = flow_dataset.iloc[:5000,:]\n",
        "flow_dataset2 = flow_dataset.iloc[125640:130640,:]\n",
        "flow_dataset = pd.concat([flow_dataset1, flow_dataset2], ignore_index=True)\n",
        "\n",
        "flow_dataset.iloc[:, 1] = flow_dataset.iloc[:, 1].str.replace('.', '')\n",
        "flow_dataset.iloc[:, 3] = flow_dataset.iloc[:, 3].str.replace('.', '')\n",
        "#flow_dataset.iloc[:, 4] = flow_dataset.iloc[:, 4].str.replace('.', '')\n",
        "\n",
        "X_flow = flow_dataset.iloc[:, :-1].values\n",
        "X_flow = X_flow.astype('float64')\n",
        "\n",
        "y_flow = flow_dataset.iloc[:, -1].values\n",
        "\n",
        "X_flow_train, X_flow_test, y_flow_train, y_flow_test = train_test_split(X_flow, y_flow, test_size=0.25, random_state=0)\n",
        "\n",
        "classifier = KNeighborsClassifier(n_neighbors=5, metric='minkowski', p=2)\n",
        "flow_model = classifier.fit(X_flow_train, y_flow_train)\n",
        "\n",
        "y_flow_pred = flow_model.predict(X_flow_test)\n",
        "\n",
        "\n",
        "print(\"Confusion Matrix\")\n",
        "cm = confusion_matrix(y_flow_test, y_flow_pred)\n",
        "print(cm)\n",
        "\n",
        "acc = accuracy_score(y_flow_test, y_flow_pred)\n",
        "\n",
        "print(\"Success Accuracy = {0:.2f} %\".format(acc*100))\n",
        "fail = 1.0 - acc\n",
        "print(\"Fail Accuracy = {0:.2f} %\".format(fail*100))"
      ],
      "execution_count": null,
      "outputs": [
        {
          "output_type": "stream",
          "name": "stdout",
          "text": [
            "Confusion Matrix\n",
            "[[1263    0]\n",
            " [  24 1213]]\n",
            "Success Accuracy = 99.04 %\n",
            "Fail Accuracy = 0.96 %\n"
          ]
        }
      ]
    },
    {
      "cell_type": "code",
      "metadata": {
        "colab": {
          "base_uri": "https://localhost:8080/",
          "height": 223
        },
        "id": "ykU5fiSvzXv7",
        "outputId": "ce98c009-1a75-4616-9113-1f7dbe955e09"
      },
      "source": [
        "flow_dataset.head()"
      ],
      "execution_count": null,
      "outputs": [
        {
          "output_type": "execute_result",
          "data": {
            "text/html": [
              "<div>\n",
              "<style scoped>\n",
              "    .dataframe tbody tr th:only-of-type {\n",
              "        vertical-align: middle;\n",
              "    }\n",
              "\n",
              "    .dataframe tbody tr th {\n",
              "        vertical-align: top;\n",
              "    }\n",
              "\n",
              "    .dataframe thead th {\n",
              "        text-align: right;\n",
              "    }\n",
              "</style>\n",
              "<table border=\"1\" class=\"dataframe\">\n",
              "  <thead>\n",
              "    <tr style=\"text-align: right;\">\n",
              "      <th></th>\n",
              "      <th>timestamp</th>\n",
              "      <th>datapath_id</th>\n",
              "      <th>flow_id</th>\n",
              "      <th>ip_src</th>\n",
              "      <th>tp_src</th>\n",
              "      <th>ip_dst</th>\n",
              "      <th>tp_dst</th>\n",
              "      <th>ip_proto</th>\n",
              "      <th>icmp_code</th>\n",
              "      <th>icmp_type</th>\n",
              "      <th>flow_duration_sec</th>\n",
              "      <th>flow_duration_nsec</th>\n",
              "      <th>idle_timeout</th>\n",
              "      <th>hard_timeout</th>\n",
              "      <th>flags</th>\n",
              "      <th>packet_count</th>\n",
              "      <th>byte_count</th>\n",
              "      <th>packet_count_per_second</th>\n",
              "      <th>packet_count_per_nsecond</th>\n",
              "      <th>byte_count_per_second</th>\n",
              "      <th>byte_count_per_nsecond</th>\n",
              "      <th>label</th>\n",
              "    </tr>\n",
              "  </thead>\n",
              "  <tbody>\n",
              "    <tr>\n",
              "      <th>0</th>\n",
              "      <td>1.589933e+09</td>\n",
              "      <td>1</td>\n",
              "      <td>10001505010003542466</td>\n",
              "      <td>10001</td>\n",
              "      <td>5050</td>\n",
              "      <td>10003</td>\n",
              "      <td>54246</td>\n",
              "      <td>6</td>\n",
              "      <td>-1</td>\n",
              "      <td>-1</td>\n",
              "      <td>4</td>\n",
              "      <td>480000000</td>\n",
              "      <td>20</td>\n",
              "      <td>100</td>\n",
              "      <td>0</td>\n",
              "      <td>50776</td>\n",
              "      <td>3351216</td>\n",
              "      <td>12694.00</td>\n",
              "      <td>1.057833e-04</td>\n",
              "      <td>8.378040e+05</td>\n",
              "      <td>6.981700e-03</td>\n",
              "      <td>0</td>\n",
              "    </tr>\n",
              "    <tr>\n",
              "      <th>1</th>\n",
              "      <td>1.589933e+09</td>\n",
              "      <td>1</td>\n",
              "      <td>10003542461000150506</td>\n",
              "      <td>10003</td>\n",
              "      <td>54246</td>\n",
              "      <td>10001</td>\n",
              "      <td>5050</td>\n",
              "      <td>6</td>\n",
              "      <td>-1</td>\n",
              "      <td>-1</td>\n",
              "      <td>4</td>\n",
              "      <td>486000000</td>\n",
              "      <td>20</td>\n",
              "      <td>100</td>\n",
              "      <td>0</td>\n",
              "      <td>209360</td>\n",
              "      <td>11834974848</td>\n",
              "      <td>52340.00</td>\n",
              "      <td>4.307819e-04</td>\n",
              "      <td>2.958744e+09</td>\n",
              "      <td>2.435180e+01</td>\n",
              "      <td>0</td>\n",
              "    </tr>\n",
              "    <tr>\n",
              "      <th>2</th>\n",
              "      <td>1.589933e+09</td>\n",
              "      <td>1</td>\n",
              "      <td>10003542461000550501</td>\n",
              "      <td>10003</td>\n",
              "      <td>54246</td>\n",
              "      <td>10005</td>\n",
              "      <td>5050</td>\n",
              "      <td>1</td>\n",
              "      <td>0</td>\n",
              "      <td>8</td>\n",
              "      <td>4</td>\n",
              "      <td>484000000</td>\n",
              "      <td>20</td>\n",
              "      <td>100</td>\n",
              "      <td>0</td>\n",
              "      <td>3</td>\n",
              "      <td>294</td>\n",
              "      <td>0.75</td>\n",
              "      <td>6.198347e-09</td>\n",
              "      <td>7.350000e+01</td>\n",
              "      <td>6.074380e-07</td>\n",
              "      <td>0</td>\n",
              "    </tr>\n",
              "    <tr>\n",
              "      <th>3</th>\n",
              "      <td>1.589933e+09</td>\n",
              "      <td>1</td>\n",
              "      <td>10005542461000350501</td>\n",
              "      <td>10005</td>\n",
              "      <td>54246</td>\n",
              "      <td>10003</td>\n",
              "      <td>5050</td>\n",
              "      <td>1</td>\n",
              "      <td>0</td>\n",
              "      <td>0</td>\n",
              "      <td>4</td>\n",
              "      <td>415000000</td>\n",
              "      <td>20</td>\n",
              "      <td>100</td>\n",
              "      <td>0</td>\n",
              "      <td>3</td>\n",
              "      <td>294</td>\n",
              "      <td>0.75</td>\n",
              "      <td>7.228916e-09</td>\n",
              "      <td>7.350000e+01</td>\n",
              "      <td>7.084337e-07</td>\n",
              "      <td>0</td>\n",
              "    </tr>\n",
              "    <tr>\n",
              "      <th>4</th>\n",
              "      <td>1.589933e+09</td>\n",
              "      <td>2</td>\n",
              "      <td>1000301000501</td>\n",
              "      <td>10003</td>\n",
              "      <td>0</td>\n",
              "      <td>10005</td>\n",
              "      <td>0</td>\n",
              "      <td>1</td>\n",
              "      <td>0</td>\n",
              "      <td>8</td>\n",
              "      <td>4</td>\n",
              "      <td>423000000</td>\n",
              "      <td>20</td>\n",
              "      <td>100</td>\n",
              "      <td>0</td>\n",
              "      <td>3</td>\n",
              "      <td>294</td>\n",
              "      <td>0.75</td>\n",
              "      <td>7.092199e-09</td>\n",
              "      <td>7.350000e+01</td>\n",
              "      <td>6.950355e-07</td>\n",
              "      <td>0</td>\n",
              "    </tr>\n",
              "  </tbody>\n",
              "</table>\n",
              "</div>"
            ],
            "text/plain": [
              "      timestamp  datapath_id  ... byte_count_per_nsecond label\n",
              "0  1.589933e+09            1  ...           6.981700e-03     0\n",
              "1  1.589933e+09            1  ...           2.435180e+01     0\n",
              "2  1.589933e+09            1  ...           6.074380e-07     0\n",
              "3  1.589933e+09            1  ...           7.084337e-07     0\n",
              "4  1.589933e+09            2  ...           6.950355e-07     0\n",
              "\n",
              "[5 rows x 22 columns]"
            ]
          },
          "metadata": {},
          "execution_count": 6
        }
      ]
    },
    {
      "cell_type": "markdown",
      "metadata": {
        "id": "SsR5Xx5ahqqR"
      },
      "source": [
        "From the learning curve, we can determine where our model is overfitting or not. By looking at the following learning curve, we can confirm that our model is not overfitting. "
      ]
    },
    {
      "cell_type": "code",
      "metadata": {
        "colab": {
          "base_uri": "https://localhost:8080/",
          "height": 295
        },
        "id": "_-mirmVgvzrB",
        "outputId": "5b14b252-9b3f-49f5-dcfc-be380be31a6a"
      },
      "source": [
        "train_sizes, train_scores, test_scores = learning_curve(estimator=classifier, X=X_flow_train, y=y_flow_train,cv=10, train_sizes=np.linspace(0.1, 1.0, 10),n_jobs=1)\n",
        "\n",
        "train_mean = np.mean(train_scores, axis=1)\n",
        "train_std = np.std(train_scores, axis=1)\n",
        "test_mean = np.mean(test_scores, axis=1)\n",
        "test_std = np.std(test_scores, axis=1)\n",
        "\n",
        "plt.plot(train_sizes, train_mean, color='red', marker='o', markersize=5, label='Training Accuracy')\n",
        "plt.fill_between(train_sizes, train_mean + train_std, train_mean - train_std, alpha=0.15, color='blue')\n",
        "plt.plot(train_sizes, test_mean, color='blue', marker='+', markersize=5, linestyle='--', label='Test Accuracy')\n",
        "plt.fill_between(train_sizes, test_mean + test_std, test_mean - test_std, alpha=0.15, color='green')\n",
        "plt.title('Learning Curve obtained for KNN')\n",
        "plt.xlabel('Training Data Size')\n",
        "plt.ylabel('Model accuracy')\n",
        "plt.grid()\n",
        "plt.legend(loc='lower right')\n",
        "plt.show()"
      ],
      "execution_count": null,
      "outputs": [
        {
          "output_type": "display_data",
          "data": {
            "image/png": "[encoded data removed]",
            "text/plain": [
              "<Figure size 432x288 with 1 Axes>"
            ]
          },
          "metadata": {
            "needs_background": "light"
          }
        }
      ]
    },
    {
      "cell_type": "markdown",
      "metadata": {
        "id": "8N4LFpl4gqCm"
      },
      "source": [
        "**Following analysis is done in per-feature basis where we have calculated how each feature accurately affect to our final prediction.**"
      ]
    },
    {
      "cell_type": "code",
      "metadata": {
        "colab": {
          "base_uri": "https://localhost:8080/"
        },
        "id": "kwqQndlb80X5",
        "outputId": "b1c630e1-2956-4bc1-8631-620f9a7473ff"
      },
      "source": [
        "from sklearn.model_selection import cross_val_score\n",
        "\n",
        "n_feats = X_flow_train.shape[1]\n",
        "\n",
        "print('Feature  Accuracy')\n",
        "for i in range(n_feats):\n",
        "    X = X_flow_train[:, i].reshape(-1, 1)\n",
        "    scores = cross_val_score(classifier, X, y_flow_train, cv=3)\n",
        "    print(f'{i}        {scores.mean():g}')"
      ],
      "execution_count": null,
      "outputs": [
        {
          "output_type": "stream",
          "name": "stdout",
          "text": [
            "Feature  Accuracy\n",
            "0        0.901467\n",
            "1        0.999733\n",
            "2        0.912267\n",
            "3        0.9924\n",
            "4        0.912267\n",
            "5        0.786133\n",
            "6        0.6356\n",
            "7        0.8388\n",
            "8        0.870667\n",
            "9        0.7052\n",
            "10        0.966267\n",
            "11        0.968133\n",
            "12        0.959333\n",
            "13        0.959333\n",
            "14        0.959333\n",
            "15        0.959333\n"
          ]
        }
      ]
    },
    {
      "cell_type": "code",
      "metadata": {
        "colab": {
          "base_uri": "https://localhost:8080/"
        },
        "id": "Dq0dXhx6xBUm",
        "outputId": "5033dec5-e6e9-4e15-e3f7-8389b4345e24"
      },
      "source": [
        "from sklearn.metrics import classification_report\n",
        "print(classification_report(y_flow_test,y_flow_pred))"
      ],
      "execution_count": null,
      "outputs": [
        {
          "output_type": "stream",
          "name": "stdout",
          "text": [
            "              precision    recall  f1-score   support\n",
            "\n",
            "           0       0.98      1.00      0.99      1263\n",
            "           1       1.00      0.98      0.99      1237\n",
            "\n",
            "    accuracy                           0.99      2500\n",
            "   macro avg       0.99      0.99      0.99      2500\n",
            "weighted avg       0.99      0.99      0.99      2500\n",
            "\n"
          ]
        }
      ]
    },
    {
      "cell_type": "markdown",
      "metadata": {
        "id": "bCn66okQn17w"
      },
      "source": [
        "**Ignoring ['packet_count','byte_count','packet_count_per_second','packet_count_per_nsecond','byte_count_per_second',byte_count_per_nsecond]**\n",
        "\n",
        "Here we have ignored the most significant features that provide higher accuracies in order to further confirm the fact that our model is not overfitted. If we are able to obtain an accuracy of less than or approximately equal to 80% then we can confirm that our model is not overfitting since we have removed the most significant features.  "
      ]
    },
    {
      "cell_type": "code",
      "metadata": {
        "colab": {
          "base_uri": "https://localhost:8080/"
        },
        "id": "xJYG655uo0B3",
        "outputId": "566215c5-d40a-4248-b738-048434ba7f89"
      },
      "source": [
        "flow_dataset = pd.read_csv('/content/drive/MyDrive/dataset.csv')\n",
        "\n",
        "flow_dataset = flow_dataset.drop(columns=['timestamp','ip_src','ip_dst','datapath_id','flow_id','packet_count','byte_count','packet_count_per_second','packet_count_per_nsecond','byte_count_per_second','byte_count_per_nsecond'])\n",
        "\n",
        "\n",
        "flow_dataset1 = flow_dataset.iloc[:5000,:]\n",
        "flow_dataset2 = flow_dataset.iloc[125640:130640,:]\n",
        "flow_dataset = pd.concat([flow_dataset1, flow_dataset2], ignore_index=True)\n",
        "\n",
        "#flow_dataset.iloc[:, 2] = flow_dataset.iloc[:, 2].str.replace('.', '')\n",
        "#flow_dataset.iloc[:, 0] = flow_dataset.iloc[:, 0].str.replace('.', '')\n",
        "#flow_dataset.iloc[:, 5] = flow_dataset.iloc[:, 5].str.replace('.', '')\n",
        "\n",
        "X_flow = flow_dataset.iloc[:, :-1].values\n",
        "X_flow = X_flow.astype('float64')\n",
        "\n",
        "y_flow = flow_dataset.iloc[:, -1].values\n",
        "\n",
        "X_flow_train, X_flow_test, y_flow_train, y_flow_test = train_test_split(X_flow, y_flow, test_size=0.25, random_state=0)\n",
        "\n",
        "classifier = KNeighborsClassifier(n_neighbors=5, metric='minkowski', p=2)\n",
        "flow_model = classifier.fit(X_flow_train, y_flow_train)\n",
        "\n",
        "y_flow_pred = flow_model.predict(X_flow_test)\n",
        "\n",
        "\n",
        "print(\"Confusion Matrix\")\n",
        "cm = confusion_matrix(y_flow_test, y_flow_pred)\n",
        "print(cm)\n",
        "\n",
        "acc = accuracy_score(y_flow_test, y_flow_pred)\n",
        "\n",
        "print(\"Success Accuracy = {0:.2f} %\".format(acc*100))\n",
        "fail = 1.0 - acc\n",
        "print(\"Fail Accuracy = {0:.2f} %\".format(fail*100))"
      ],
      "execution_count": null,
      "outputs": [
        {
          "output_type": "stream",
          "name": "stdout",
          "text": [
            "Confusion Matrix\n",
            "[[ 880  383]\n",
            " [  86 1151]]\n",
            "Success Accuracy = 81.24 %\n",
            "Fail Accuracy = 18.76 %\n"
          ]
        }
      ]
    }
  ]
}